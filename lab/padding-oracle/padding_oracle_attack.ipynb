{
 "cells": [
  {
   "cell_type": "markdown",
   "metadata": {
    "colab_type": "text",
    "id": "fmcfcXozUZH0"
   },
   "source": [
    "<h1>CBC Padding Oracle Attack & SHA Length Extension Attack Demo Lab</h1>\n",
    "\n",
    "v1.0: Ryan Lehmkuhl, Ben Hoberman\n",
    "\n",
    "v2.0: Ben Hoberman, Peyrin Kao, EvanBot"
   ]
  },
  {
   "cell_type": "markdown",
   "metadata": {},
   "source": [
    "Your grade for this lab will the maximum of your score on this lab, your overall homework score, and your overall project score. This means this lab is effectively optional, so don't stress too much and have some fun with it."
   ]
  },
  {
   "cell_type": "markdown",
   "metadata": {},
   "source": [
    "# Storyline\n",
    "\n",
    "`[Continued from Project 1]`\n",
    "\n",
    "`Thanks to your heroic efforts, EvanBot is now working alongside you at the Caltopian Space Agency to learn more about the Jupiter mission. One day, EvanBot approaches you with a rather unusual request.`\n",
    "\n",
    "`The CSA cafeteria is famous for serving chef Brown's \"fluffy yet crunchy (?) pancakes\", created with a secret ingredient. EvanBot can't get enough of these pancakes and must know what the secret ingredient is.`\n",
    "\n",
    "`Luckily for you, Bot has intercepted a message from the highest levels of CSA intelligence, and Bot believes a part of this message may contain chef Brown's signature recipe.`\n",
    "\n",
    "`There's just one tiny problem: this message is encrypted with more entropy than you could possibly dream of brute-forcing.`"
   ]
  },
  {
   "cell_type": "markdown",
   "metadata": {},
   "source": [
    "# Introduction\n",
    "\n",
    "Trying to implement crypto schemes yourself can be very dangerous. In the words of Runa Sandvi, The New York Times senior director of information security, \"Asking why you should not roll your own crypto is a bit like asking why you should not design your own aircraft engine.\"\n",
    "\n",
    "While many of the concepts we've reviewed in class may seem intuitive and simple, even the subtlest leakage of information can completely compromise any hope for confidentiality.\n",
    "\n",
    "We will demonstrate this by completely decrypting a message encrypted with AES-CBC using a **padding oracle attack**."
   ]
  },
  {
   "cell_type": "markdown",
   "metadata": {
    "colab_type": "text",
    "id": "hIpYGDw9UZH3"
   },
   "source": [
    "# Setup\n",
    "\n",
    "Before you get started, run the following block to install packages needed for this notebook:"
   ]
  },
  {
   "cell_type": "code",
   "execution_count": 1,
   "metadata": {
    "colab": {},
    "colab_type": "code",
    "id": "gLFSw7lBUZH6"
   },
   "outputs": [
    {
     "name": "stdout",
     "output_type": "stream",
     "text": [
      "Requirement already satisfied: cryptography in /Users/tt/opt/anaconda3/lib/python3.8/site-packages (2.9.2)\n",
      "Requirement already satisfied: flask in /Users/tt/opt/anaconda3/lib/python3.8/site-packages (1.1.2)\n",
      "Requirement already satisfied: requests in /Users/tt/opt/anaconda3/lib/python3.8/site-packages (2.24.0)\n",
      "Requirement already satisfied: cffi!=1.11.3,>=1.8 in /Users/tt/opt/anaconda3/lib/python3.8/site-packages (from cryptography) (1.14.0)\n",
      "Requirement already satisfied: six>=1.4.1 in /Users/tt/opt/anaconda3/lib/python3.8/site-packages (from cryptography) (1.15.0)\n",
      "Requirement already satisfied: Werkzeug>=0.15 in /Users/tt/opt/anaconda3/lib/python3.8/site-packages (from flask) (1.0.1)\n",
      "Requirement already satisfied: itsdangerous>=0.24 in /Users/tt/opt/anaconda3/lib/python3.8/site-packages (from flask) (1.1.0)\n",
      "Requirement already satisfied: Jinja2>=2.10.1 in /Users/tt/opt/anaconda3/lib/python3.8/site-packages (from flask) (2.11.2)\n",
      "Requirement already satisfied: click>=5.1 in /Users/tt/opt/anaconda3/lib/python3.8/site-packages (from flask) (7.1.2)\n",
      "Requirement already satisfied: idna<3,>=2.5 in /Users/tt/opt/anaconda3/lib/python3.8/site-packages (from requests) (2.10)\n",
      "Requirement already satisfied: chardet<4,>=3.0.2 in /Users/tt/opt/anaconda3/lib/python3.8/site-packages (from requests) (3.0.4)\n",
      "Requirement already satisfied: urllib3!=1.25.0,!=1.25.1,<1.26,>=1.21.1 in /Users/tt/opt/anaconda3/lib/python3.8/site-packages (from requests) (1.25.9)\n",
      "Requirement already satisfied: certifi>=2017.4.17 in /Users/tt/opt/anaconda3/lib/python3.8/site-packages (from requests) (2020.6.20)\n",
      "Requirement already satisfied: pycparser in /Users/tt/opt/anaconda3/lib/python3.8/site-packages (from cffi!=1.11.3,>=1.8->cryptography) (2.20)\n",
      "Requirement already satisfied: MarkupSafe>=0.23 in /Users/tt/opt/anaconda3/lib/python3.8/site-packages (from Jinja2>=2.10.1->flask) (1.1.1)\n",
      "Note: you may need to restart the kernel to use updated packages.\n"
     ]
    }
   ],
   "source": [
    "%pip install cryptography flask requests"
   ]
  },
  {
   "cell_type": "code",
   "execution_count": 2,
   "metadata": {
    "colab": {},
    "colab_type": "code",
    "id": "4wrczNz-UZIN"
   },
   "outputs": [],
   "source": [
    "import base64\n",
    "import os\n",
    "from IPython.display import clear_output\n",
    "from cryptography.hazmat.backends import default_backend\n",
    "from cryptography.hazmat.primitives.ciphers import Cipher\n",
    "from cryptography.hazmat.primitives.ciphers.algorithms import AES\n",
    "from cryptography.hazmat.primitives.ciphers.modes import ECB\n",
    "from requests.adapters import HTTPAdapter\n",
    "from requests import Session\n",
    "from tests import test1, test2, test3, test4, test5, test6, test7\n",
    "from helpers import PKCS7_pad, PKCS7_unpad, valid_pad, permute\n",
    "%load_ext autoreload\n",
    "%autoreload 2"
   ]
  },
  {
   "cell_type": "markdown",
   "metadata": {
    "colab_type": "text",
    "id": "XBjxpP3aUZId"
   },
   "source": [
    "# Question 1: Padding\n",
    "\n",
    "Recall from Homework 2, Q4 that the AES-128 block cipher can only encrypt 16-byte messages. This means that block chaining modes such as CBC mode require the message length to be a multiple of 16. If the message we want to encrypt is not a multiple of 16, we need to add padding.\n",
    "\n",
    "In Q4.1, Q4.2, and Q4.3, we saw that some padding and de-padding algorithms lead to ambiguity over what your original message was. We also saw that the PKCS#7 padding algorithm (PKCS stands for Public Key Cryptography Standard) always returns your original message when de-padding.\n",
    "\n",
    "The PKCS#7 algorithm appends the number of padding bytes to the end of the message. For example, the message `PANCAKES` is padded to become:\n",
    "\n",
    "```\n",
    "0 1 2 3 4 5 6 7 8 9 10 11 12 13 14 15\n",
    "P A N C A K E S 8 8 8  8  8  8  8  8\n",
    "```\n",
    "\n",
    "Note that in if the message is a multiple of the block size, another block of all 16s (```0x10```) is added.\n",
    "\n",
    "**Try replacing `msg` with some different messages to get a feel for how the padding algorithm works.**"
   ]
  },
  {
   "cell_type": "code",
   "execution_count": 5,
   "metadata": {
    "colab": {},
    "colab_type": "code",
    "id": "ewekVTpYUZIf"
   },
   "outputs": [
    {
     "name": "stdout",
     "output_type": "stream",
     "text": [
      "Plaintext without padding: ['FROM: CSA HQ fjd', 'salfksd']\n",
      "Length: 23\n",
      "Plaintext with padding: ['FROM: CSA HQ fjd', 'salfksd\\t\\t\\t\\t\\t\\t\\t\\t\\t']\n",
      "Length: 32\n",
      "\n",
      "Hex of padded message:\n",
      "Block 0:  0x46 0x52 0x4f 0x4d 0x3a 0x20 0x43 0x53 0x41 0x20 0x48 0x51 0x20 0x66 0x6a 0x64\n",
      "Block 1:  0x73 0x61 0x6c 0x66 0x6b 0x73 0x64 0x09 0x09 0x09 0x09 0x09 0x09 0x09 0x09 0x09\n"
     ]
    }
   ],
   "source": [
    "### TODO: Replace the message to see how it's padded\n",
    "msg = b\"FROM: CSA HQ fjdsalfksd\"\n",
    "\n",
    "# Pads the message and splits it into blocks\n",
    "padded_msg = PKCS7_pad(msg)\n",
    "plaintext = [msg[i:i + 16].decode() for i in range(0, len(msg), 16)]\n",
    "padded_plaintext = [padded_msg[i:i + 16] for i in range(0, len(padded_msg), 16)]\n",
    "\n",
    "# Prints everything - decodes the blocks of byte objects to strings\n",
    "print(f\"Plaintext without padding: {plaintext}\")\n",
    "print(f\"Length: {len(msg)}\")\n",
    "print(f\"Plaintext with padding: {[x.decode() for x in padded_plaintext]}\")\n",
    "print(f\"Length: {len(padded_msg)}\\n\")\n",
    "print(f\"Hex of padded message:\")\n",
    "for i in range(len(padded_plaintext)):\n",
    "    print(f\"Block {i}: \", \" \".join('0x{:02x}'.format(c) for c in padded_plaintext[i]))"
   ]
  },
  {
   "cell_type": "markdown",
   "metadata": {
    "colab_type": "text",
    "id": "pseldJtfMC1w"
   },
   "source": [
    "## 1.1\n",
    "\n",
    "In Q4.5, we thought about what happens to the padding if an attacker modifies the last byte of a padded plaintext message.\n",
    "\n",
    "**Below, choose a byte for the last byte of the padded message that will cause `valid_pad` to return `False`.**"
   ]
  },
  {
   "cell_type": "code",
   "execution_count": 25,
   "metadata": {
    "colab": {},
    "colab_type": "code",
    "id": "qozdfg83UZIq"
   },
   "outputs": [
    {
     "name": "stdout",
     "output_type": "stream",
     "text": [
      "All tests passed!\n"
     ]
    }
   ],
   "source": [
    "# Length of this message: 60\n",
    "msg = b\"TITLE: Company-wide implementation of zero food waste policy\" # do not change this\n",
    "\n",
    "### TODO: Choose a last byte (written as a number) that makes the padding invalid\n",
    "invalid_last_byte = 60 - len(msg)\n",
    "\n",
    "# Autograder\n",
    "test1(invalid_last_byte)"
   ]
  },
  {
   "cell_type": "markdown",
   "metadata": {
    "colab_type": "text",
    "id": "LdengaDGUZI0"
   },
   "source": [
    "## 1.2\n",
    "\n",
    "Also in Q4.5, we saw one way an attacker could change the last byte to a constant value that guarantees that the message has valid padding.\n",
    "\n",
    "**Below, give *two* different last bytes for the padded message which will cause `valid_pad` to return `True`.**"
   ]
  },
  {
   "cell_type": "code",
   "execution_count": 42,
   "metadata": {
    "colab": {},
    "colab_type": "code",
    "id": "LLxMm5MkUZI2"
   },
   "outputs": [
    {
     "name": "stdout",
     "output_type": "stream",
     "text": [
      "All tests passed!\n"
     ]
    }
   ],
   "source": [
    "# Length of this message: 108\n",
    "msg = b\"As part of our ongoing environmental initiative, we are switching our canteens to zero food waste operation.\"\n",
    "# do not change this\n",
    "\n",
    "### TODO: Choose two different last bytes (written as a number) that makes the padding valid\n",
    "valid_last_byte_1 = 16 - len(msg) % 16 ### YOUR CODE HERE ###\n",
    "valid_last_byte_2 = 1 ### YOUR CODE HERE ###\n",
    "\n",
    "# Autograder\n",
    "test2(valid_last_byte_1, valid_last_byte_2)"
   ]
  },
  {
   "cell_type": "markdown",
   "metadata": {},
   "source": [
    "# Question 2: Padding Oracles\n",
    "\n",
    "We now know why padding is important and how to implement it, but how can a faulty implementation break our crypto system? For this, recall the **padding oracle** from Homework 2.\n",
    "\n",
    "In cryptography, an oracle is a queryable 'black box' (a function with unknown inner-workings) which provides some piece of information which otherwise would not be available. For example, when we studied the IND-CPA game, the challenger acted as an **encryption oracle** since the adversary could query it on a given message and receive back a ciphertext without knowing how the encryption was done (i.e. which key was used). \n",
    "\n",
    "A padding oracle takes some ciphertext `c` as input, and returns `True` if the ciphertext (which is decrypted using the secret shared key) is properly padded and `False` otherwise. We've defined a function, `valid_pad` which acts as such a padding oracle for PKCS7."
   ]
  },
  {
   "cell_type": "markdown",
   "metadata": {
    "colab_type": "text",
    "id": "joOyzPoQUZJA"
   },
   "source": [
    "Many real systems naturally act as padding oracles. Consider a web server which uses AES-CBC to encrypt communications between its clients (early versions of TLS did this). If a client sends a message with invalid padding, the exception might cause the web server to respond with something like:\n",
    "<center>\n",
    "<img src=\"https://i.imgur.com/IFhVUbJ.png\" align=\"center\" style=\"height:400px\" />\n",
    "</center>"
   ]
  },
  {
   "cell_type": "markdown",
   "metadata": {
    "colab_type": "text",
    "id": "a4gtFzV4UZJC"
   },
   "source": [
    "Why is this bad? At a fundamental level, the resulting error leaks information about the plaintext which should never be allowed in any cryptographic system. But come on... detecting incorrect padding can't be that bad? Right? **WRONG.** This simple leakage ends up completely destroying any hope for confidentiality with the encryption scheme. To see why, let's review how the CBC block chaining mode works."
   ]
  },
  {
   "cell_type": "markdown",
   "metadata": {
    "colab_type": "text",
    "id": "TYLVaKHJUZJD"
   },
   "source": [
    "Recall that decryption in CBC mode is as follows:\n",
    "<center>\n",
    "<img src=\"https://i.imgur.com/CRUh4nu.png\" align=\"center\" style=\"height:300px\" />\n",
    "</center>\n",
    "\n",
    "In particular, we are interested in the decryption of a single block - especially the temporary block state that occurs before the XOR:\n",
    "<center>\n",
    "<img src=\"https://raw.githubusercontent.com/cs161-staff/labs/master/padding_oracle/cbc_decrypt_block.png\" align=\"center\" style=\"height:400px\" />\n",
    "</center>"
   ]
  },
  {
   "cell_type": "markdown",
   "metadata": {
    "colab_type": "text",
    "id": "J_xQfD4kUZJK"
   },
   "source": [
    "## 2.1\n",
    "\n",
    "In Homework 2, Q5, you found an expression for $P_n$ in terms of $C_n$ and $C_{n-1}$.\n",
    "\n",
    "**Implement the expression you found for $P_n$ in the code block below.**"
   ]
  },
  {
   "cell_type": "code",
   "execution_count": 52,
   "metadata": {
    "colab": {},
    "colab_type": "code",
    "id": "Cv2zkb3EUZJL"
   },
   "outputs": [
    {
     "name": "stdout",
     "output_type": "stream",
     "text": [
      "All tests passed!\n",
      "[storyline message] Given the overwhelming success of this policy at HQ, we are excited to expand our ongoing commitment.\n"
     ]
    }
   ],
   "source": [
    "from helpers import xor_block\n",
    "# xor_block(block1, block2) automatically xors two blocks of bytes together\n",
    "\n",
    "def P_from_DCC(D, C, C_prev):\n",
    "    \"\"\"\n",
    "    Compute P_n from D(.), C_n, and C_{n-1}.\n",
    "\n",
    "    D:         a block cipher decryption function.\n",
    "    C:         C_n, a 16-byte block of text\n",
    "    C_prev:    C_{n-1}, the 16-byte ciphertext preceding C\n",
    "    \"\"\"\n",
    "    T = D(C) ### YOUR CODE HERE ###\n",
    "    P = xor_block(T, C_prev) ### YOUR CODE HERE ###\n",
    "\n",
    "    return P\n",
    "\n",
    "# Autograder\n",
    "test3(P_from_DCC)"
   ]
  },
  {
   "cell_type": "markdown",
   "metadata": {
    "colab_type": "text",
    "id": "g2ANyzONUZJS"
   },
   "source": [
    "## 2.2\n",
    "\n",
    "Now, we're going to start building towards a full-fledged attack based on this decryption process.\n",
    "\n",
    "Assume that you have intercepted some ciphertext $(IV, C_1, C_2, \\ldots, C_n)$ and have access to a padding oracle. You have complete freedom with what you send the padding oracle (ie. a subset of the ciphertext blocks or something completely different). Whatever you send, the padding oracle will decrypt it **using the original symmetric key** and truthfully report whether it is padded correctly.\n",
    "\n",
    "For now, ignore all of the blocks except for the last block $C_n$.\n",
    "<center>\n",
    "<img src=\"https://raw.githubusercontent.com/cs161-staff/labs/master/padding_oracle/cbc_decrypt_byte.png\" align=\"center\" style=\"height:400px\" />\n",
    "</center>"
   ]
  },
  {
   "cell_type": "markdown",
   "metadata": {
    "colab_type": "text",
    "id": "Z5Un_6t8UZJX"
   },
   "source": [
    "## 2.3\n",
    "\n",
    "In HW2, Q6.1, you found a way to change $C_{n-1}[15]$ such that the decrypted message has valid padding no matter what.\n",
    "\n",
    "**Implement your answer from HW2, Q6.1 in the following function to test it out.**"
   ]
  },
  {
   "cell_type": "code",
   "execution_count": 56,
   "metadata": {
    "colab": {},
    "colab_type": "code",
    "id": "s_PdHCA4UZJZ"
   },
   "outputs": [
    {
     "name": "stdout",
     "output_type": "stream",
     "text": [
      "All tests passed!\n",
      "[storyline message] As the policy name suggests, no food waste is allowed in both cooking and dining facilities.\n"
     ]
    }
   ],
   "source": [
    "def pad_correctly(T_byte):\n",
    "    \"\"\"\n",
    "    Computes C'_{n-1}[15] given T_n[15] which results\n",
    "    in a correctly padded P_n[15].\n",
    "    \n",
    "    T_byte: T_n[15]\n",
    "    \"\"\"\n",
    "    # Hint: ^ is XOR in Python.\n",
    "    return T_byte ^ 1 ### YOUR CODE HERE ###\n",
    "\n",
    "# Autograder\n",
    "test4(pad_correctly)"
   ]
  },
  {
   "cell_type": "markdown",
   "metadata": {
    "colab_type": "text",
    "id": "1sWGVsykUZJu"
   },
   "source": [
    "## 2.4\n",
    "\n",
    "Your answer from the previous part requires knowing $T_n[15]$, but normally you wouldn't know this value.\n",
    "\n",
    "**How might you leverage the padding oracle and the `pad_correctly` function to learn the value of $C_{n-1}'[15]$?**\n",
    "\n",
    "*Hint: a brute force attack that only needs to try a small number of options is very fast. 256 is very small.*"
   ]
  },
  {
   "cell_type": "markdown",
   "metadata": {
    "colab_type": "text",
    "id": "51U3GchXUZJh"
   },
   "source": [
    "**<span style = \"color: red\">we can use a for loop to brute force find out the value of Cn-1[15]</span>**"
   ]
  },
  {
   "cell_type": "markdown",
   "metadata": {
    "colab_type": "text",
    "id": "Qr8xgpPVUZJx"
   },
   "source": [
    "## 2.5\n",
    "\n",
    "In HW2, Q6.2, you found a way to learn the corresponding byte of plaintext $P_n[15]$ given $C'_{n-1}[15]$ and $C_{n-1}[15]$.\n",
    "\n",
    "**Implement your answer from HW2, Q6.2 to calculate the corresponding byte of plaintext.**"
   ]
  },
  {
   "cell_type": "code",
   "execution_count": 63,
   "metadata": {
    "colab": {},
    "colab_type": "code",
    "id": "t0k0MrjUUZJ0"
   },
   "outputs": [
    {
     "name": "stdout",
     "output_type": "stream",
     "text": [
      "All tests passed!\n",
      "[storyline message] To enforce this policy, we are removing all trash cans from the kitchen and the dining hall.\n"
     ]
    }
   ],
   "source": [
    "def recover_byte(C_byte, C_prime_byte):\n",
    "    \"\"\"\n",
    "    Given the modified ciphertext C'_{n-1}[15] which resulted in\n",
    "    the padding always being correct, and the original ciphertext\n",
    "    C_{n-1}[15], return the last byte of the original plaintext P_n[15].\n",
    "    \n",
    "    C_byte: C_{n-1}[15] - the original last byte of the ciphertext\n",
    "    C_prime_byte: C'_{n-1}[15] - the modified last byte which resulted in correct padding all of the time\n",
    "    \"\"\"\n",
    "    return C_byte ^ pad_correctly(C_prime_byte) ### YOUR CODE HERE ###\n",
    "\n",
    "# Autograder --- make sure you've completed 2.3 first! This test requires your implementation of pad_correctly.\n",
    "test5(recover_byte, pad_correctly)"
   ]
  },
  {
   "cell_type": "markdown",
   "metadata": {
    "colab_type": "text",
    "id": "TX_84hocUZJf"
   },
   "source": [
    "## 2.6\n",
    "\n",
    "In 2.4, you found a value $C'_{n-1}[15]$ that results in valid padding regardless of the plaintext message. However, it is sometimes possible for a *different* value of $C'_{n-1}[15]$ to result in valid padding, depending on the plaintext message $P_n$.\n",
    "\n",
    "**When does this different value result in valid padding?**\n",
    "\n",
    "*Hint: how did you come up with the two answers for question 1.2 in this lab?*"
   ]
  },
  {
   "cell_type": "markdown",
   "metadata": {
    "colab_type": "text",
    "id": "C6dqQ2frUZJv"
   },
   "source": [
    "**<span style = \"color: red\">when the value is 1, it would be same</span>**"
   ]
  },
  {
   "cell_type": "markdown",
   "metadata": {
    "colab_type": "text",
    "id": "LUKqfrLlUZJ5"
   },
   "source": [
    "## 2.7\n",
    "\n",
    "Suppose you get two possible values for $C_n'[15]$ that result in valid padding. One of them results in valid padding regardless of the message (2.3), and the other results in valid padding only for this specific message (2.6). **How can we modify $C_n[14]$** to check which value is which?\n",
    "\n",
    "*Hint: There are over 200 values that work here*"
   ]
  },
  {
   "cell_type": "markdown",
   "metadata": {
    "colab_type": "text",
    "id": "BG_4yzt3UZJ6"
   },
   "source": [
    "**<span style = \"color: red\">when we padding, we assign some specific value like \"$\" or \"#\" to Cn[14]</span>**"
   ]
  },
  {
   "cell_type": "markdown",
   "metadata": {
    "colab_type": "text",
    "id": "CcvR3YFSUZJ8"
   },
   "source": [
    "## 2.8\n",
    "\n",
    "**Fill in the function so that it always correctly finds the last byte of plaintext based on the last two blocks of ciphertext and a padding oracle.**"
   ]
  },
  {
   "cell_type": "code",
   "execution_count": 117,
   "metadata": {
    "colab": {},
    "colab_type": "code",
    "id": "8h_A_nJ0UZJ9"
   },
   "outputs": [
    {
     "name": "stdout",
     "output_type": "stream",
     "text": [
      "14\n"
     ]
    },
    {
     "ename": "TypeError",
     "evalue": "'bytes' object does not support item assignment",
     "output_type": "error",
     "traceback": [
      "\u001b[0;31m---------------------------------------------------------------------------\u001b[0m",
      "\u001b[0;31mTypeError\u001b[0m                                 Traceback (most recent call last)",
      "\u001b[0;32m<ipython-input-117-975a945f805f>\u001b[0m in \u001b[0;36m<module>\u001b[0;34m\u001b[0m\n\u001b[1;32m     22\u001b[0m \u001b[0;34m\u001b[0m\u001b[0m\n\u001b[1;32m     23\u001b[0m \u001b[0;31m# Autograder\u001b[0m\u001b[0;34m\u001b[0m\u001b[0;34m\u001b[0m\u001b[0;34m\u001b[0m\u001b[0m\n\u001b[0;32m---> 24\u001b[0;31m \u001b[0mtest6\u001b[0m\u001b[0;34m(\u001b[0m\u001b[0msolve_last_byte\u001b[0m\u001b[0;34m)\u001b[0m\u001b[0;34m\u001b[0m\u001b[0;34m\u001b[0m\u001b[0m\n\u001b[0m",
      "\u001b[0;32m~/Desktop/padding-oracle/tests.py\u001b[0m in \u001b[0;36mtest6\u001b[0;34m(decryption_fn)\u001b[0m\n\u001b[1;32m    118\u001b[0m         \u001b[0;32mreturn\u001b[0m \u001b[0mvalid_pad\u001b[0m\u001b[0;34m(\u001b[0m\u001b[0mbytes\u001b[0m\u001b[0;34m(\u001b[0m\u001b[0mxor_block\u001b[0m\u001b[0;34m(\u001b[0m\u001b[0mD\u001b[0m\u001b[0;34m(\u001b[0m\u001b[0mC\u001b[0m\u001b[0;34m)\u001b[0m\u001b[0;34m,\u001b[0m \u001b[0mC_last\u001b[0m\u001b[0;34m)\u001b[0m\u001b[0;34m)\u001b[0m\u001b[0;34m)\u001b[0m\u001b[0;34m\u001b[0m\u001b[0;34m\u001b[0m\u001b[0m\n\u001b[1;32m    119\u001b[0m \u001b[0;34m\u001b[0m\u001b[0m\n\u001b[0;32m--> 120\u001b[0;31m     \u001b[0;32mif\u001b[0m \u001b[0;32mnot\u001b[0m \u001b[0mdecryption_fn\u001b[0m\u001b[0;34m(\u001b[0m\u001b[0mC1\u001b[0m\u001b[0;34m,\u001b[0m \u001b[0mC2\u001b[0m\u001b[0;34m,\u001b[0m \u001b[0moracle\u001b[0m\u001b[0;34m)\u001b[0m \u001b[0;34m==\u001b[0m \u001b[0mpt\u001b[0m\u001b[0;34m[\u001b[0m\u001b[0;36m31\u001b[0m\u001b[0;34m]\u001b[0m\u001b[0;34m:\u001b[0m\u001b[0;34m\u001b[0m\u001b[0;34m\u001b[0m\u001b[0m\n\u001b[0m\u001b[1;32m    121\u001b[0m         \u001b[0mprint\u001b[0m\u001b[0;34m(\u001b[0m\u001b[0;34m'Last byte was not correct.'\u001b[0m\u001b[0;34m)\u001b[0m\u001b[0;34m\u001b[0m\u001b[0;34m\u001b[0m\u001b[0m\n\u001b[1;32m    122\u001b[0m         \u001b[0;32mreturn\u001b[0m\u001b[0;34m\u001b[0m\u001b[0;34m\u001b[0m\u001b[0m\n",
      "\u001b[0;32m<ipython-input-117-975a945f805f>\u001b[0m in \u001b[0;36msolve_last_byte\u001b[0;34m(C_prev, C, oracle)\u001b[0m\n\u001b[1;32m     13\u001b[0m         \u001b[0mC_prev_prime\u001b[0m \u001b[0;34m=\u001b[0m \u001b[0mbytearray\u001b[0m\u001b[0;34m(\u001b[0m\u001b[0mC_prev\u001b[0m\u001b[0;34m)\u001b[0m\u001b[0;34m\u001b[0m\u001b[0;34m\u001b[0m\u001b[0m\n\u001b[1;32m     14\u001b[0m         \u001b[0;31m# Change the last byte of C_{n-1}\u001b[0m\u001b[0;34m\u001b[0m\u001b[0;34m\u001b[0m\u001b[0;34m\u001b[0m\u001b[0m\n\u001b[0;32m---> 15\u001b[0;31m         \u001b[0mC\u001b[0m\u001b[0;34m[\u001b[0m\u001b[0;36m15\u001b[0m\u001b[0;34m]\u001b[0m \u001b[0;34m=\u001b[0m \u001b[0mC_prev_prime\u001b[0m\u001b[0;34m[\u001b[0m\u001b[0;36m15\u001b[0m\u001b[0;34m]\u001b[0m \u001b[0;31m### YOUR CODE HERE ###\u001b[0m\u001b[0;34m\u001b[0m\u001b[0;34m\u001b[0m\u001b[0m\n\u001b[0m\u001b[1;32m     16\u001b[0m         \u001b[0;31m# If the oracle reports the modified ciphertext has valid padding...\u001b[0m\u001b[0;34m\u001b[0m\u001b[0;34m\u001b[0m\u001b[0;34m\u001b[0m\u001b[0m\n\u001b[1;32m     17\u001b[0m         \u001b[0;32mif\u001b[0m \u001b[0moracle\u001b[0m\u001b[0;34m(\u001b[0m\u001b[0mC_prev_prime\u001b[0m\u001b[0;34m,\u001b[0m \u001b[0mC\u001b[0m\u001b[0;34m)\u001b[0m\u001b[0;34m:\u001b[0m\u001b[0;34m\u001b[0m\u001b[0;34m\u001b[0m\u001b[0m\n",
      "\u001b[0;31mTypeError\u001b[0m: 'bytes' object does not support item assignment"
     ]
    }
   ],
   "source": [
    "def solve_last_byte(C_prev, C, oracle):\n",
    "    \"\"\"\n",
    "    Returns the correct last byte of the original plaintext\n",
    "    P_n[15] given the previous the ciphertexts C_n, C_{n-1},\n",
    "    and a padding oracle\n",
    "    \n",
    "    C: current block (the one whose plaintext we're solving for) of the ciphertext (C_n)\n",
    "    C_prev: previous block of the cipher text (C_{n-1})\n",
    "    oracle: a function which returns whether (C_prev, C) are padded correctly\n",
    "    \"\"\"\n",
    "    # Loop through the possible values for byte\n",
    "    for byte in C: ### YOUR CODE HERE ###\n",
    "        C_prev_prime = bytearray(C_prev)\n",
    "        # Change the last byte of C_{n-1}\n",
    "        C[15] = C_prev_prime[15] ### YOUR CODE HERE ###\n",
    "        # If the oracle reports the modified ciphertext has valid padding...\n",
    "        if oracle(C_prev_prime, C):\n",
    "            C_prev_prime[14] = \"a\" ### YOUR CODE HERE ###\n",
    "            # ...check that we get valid padding regardless of the message\n",
    "            if oracle(C_prev_prime, C):\n",
    "                return recover_byte(C_prev[15], C_prev_prime[15])\n",
    "            \n",
    "# Autograder\n",
    "test6(solve_last_byte)"
   ]
  },
  {
   "cell_type": "markdown",
   "metadata": {
    "colab_type": "text",
    "id": "0bJRF_HHUZKF"
   },
   "source": [
    "## 2.9\n",
    "\n",
    "In HW2, Q6.3 and Q6.4, you saw how to modify the previous steps to learn the second-to-last byte of the plaintext message.\n",
    "\n",
    "**How could you extend the previous steps to decode an entire block? An entire message?**"
   ]
  },
  {
   "cell_type": "markdown",
   "metadata": {
    "colab_type": "text",
    "id": "SUbHmxAsUZKH"
   },
   "source": [
    "**<span style = \"color: red\">(YOUR ANSWER HERE)</span>**"
   ]
  },
  {
   "cell_type": "markdown",
   "metadata": {
    "colab_type": "text",
    "id": "ipLhvCALUZKH"
   },
   "source": [
    "## 2.10\n",
    "\n",
    "Now, we can finally implement the full decryption.\n",
    "\n",
    "**Fill out the function below based on prior parts in order to successfully decrypt any CBC ciphertext block based on a padding oracle.**\n",
    "\n",
    "<center>\n",
    "<img src=\"https://raw.githubusercontent.com/cs161-staff/labs/master/padding_oracle/cbc_decrypt_byte.png\" align=\"center\" style=\"height:400px\" />\n",
    "</center>\n",
    "\n",
    "Remember that as you discover more of the message, the \"correct\" padding you need to enforce will change."
   ]
  },
  {
   "cell_type": "code",
   "execution_count": 105,
   "metadata": {
    "colab": {},
    "colab_type": "code",
    "id": "FaN_NuzkUZKJ"
   },
   "outputs": [
    {
     "ename": "TypeError",
     "evalue": "'ellipsis' object is not iterable",
     "output_type": "error",
     "traceback": [
      "\u001b[0;31m---------------------------------------------------------------------------\u001b[0m",
      "\u001b[0;31mTypeError\u001b[0m                                 Traceback (most recent call last)",
      "\u001b[0;32m<ipython-input-105-bacb98ed68f5>\u001b[0m in \u001b[0;36m<module>\u001b[0;34m\u001b[0m\n\u001b[1;32m     50\u001b[0m \u001b[0;34m\u001b[0m\u001b[0m\n\u001b[1;32m     51\u001b[0m \u001b[0;31m# Autograder\u001b[0m\u001b[0;34m\u001b[0m\u001b[0;34m\u001b[0m\u001b[0;34m\u001b[0m\u001b[0m\n\u001b[0;32m---> 52\u001b[0;31m \u001b[0mtest7\u001b[0m\u001b[0;34m(\u001b[0m\u001b[0mdecrypt_block\u001b[0m\u001b[0;34m)\u001b[0m\u001b[0;34m\u001b[0m\u001b[0;34m\u001b[0m\u001b[0m\n\u001b[0m",
      "\u001b[0;32m~/Desktop/padding-oracle/tests.py\u001b[0m in \u001b[0;36mtest7\u001b[0;34m(decryption_fn)\u001b[0m\n\u001b[1;32m    139\u001b[0m         \u001b[0;32mreturn\u001b[0m \u001b[0mvalid_pad\u001b[0m\u001b[0;34m(\u001b[0m\u001b[0mbytes\u001b[0m\u001b[0;34m(\u001b[0m\u001b[0mxor_block\u001b[0m\u001b[0;34m(\u001b[0m\u001b[0mD\u001b[0m\u001b[0;34m(\u001b[0m\u001b[0mC\u001b[0m\u001b[0;34m)\u001b[0m\u001b[0;34m,\u001b[0m \u001b[0mC_last\u001b[0m\u001b[0;34m)\u001b[0m\u001b[0;34m)\u001b[0m\u001b[0;34m)\u001b[0m\u001b[0;34m\u001b[0m\u001b[0;34m\u001b[0m\u001b[0m\n\u001b[1;32m    140\u001b[0m \u001b[0;34m\u001b[0m\u001b[0m\n\u001b[0;32m--> 141\u001b[0;31m     \u001b[0;32mif\u001b[0m \u001b[0;32mnot\u001b[0m \u001b[0mbytes\u001b[0m\u001b[0;34m(\u001b[0m\u001b[0mdecryption_fn\u001b[0m\u001b[0;34m(\u001b[0m\u001b[0mC1\u001b[0m\u001b[0;34m,\u001b[0m \u001b[0mC2\u001b[0m\u001b[0;34m,\u001b[0m \u001b[0moracle\u001b[0m\u001b[0;34m)\u001b[0m\u001b[0;34m)\u001b[0m \u001b[0;34m==\u001b[0m \u001b[0mpt\u001b[0m\u001b[0;34m[\u001b[0m\u001b[0;36m16\u001b[0m\u001b[0;34m:\u001b[0m\u001b[0;34m]\u001b[0m\u001b[0;34m:\u001b[0m\u001b[0;34m\u001b[0m\u001b[0;34m\u001b[0m\u001b[0m\n\u001b[0m\u001b[1;32m    142\u001b[0m         \u001b[0mprint\u001b[0m\u001b[0;34m(\u001b[0m\u001b[0;34m'Second block did not decrypt correctly.'\u001b[0m\u001b[0;34m)\u001b[0m\u001b[0;34m\u001b[0m\u001b[0;34m\u001b[0m\u001b[0m\n\u001b[1;32m    143\u001b[0m         \u001b[0mprint\u001b[0m\u001b[0;34m(\u001b[0m\u001b[0;34mf'You gave me {bytes(decryption_fn(C1, C2, oracle))}, but I expected {pt[16:]}'\u001b[0m\u001b[0;34m)\u001b[0m\u001b[0;34m\u001b[0m\u001b[0;34m\u001b[0m\u001b[0m\n",
      "\u001b[0;32m<ipython-input-105-bacb98ed68f5>\u001b[0m in \u001b[0;36mdecrypt_block\u001b[0;34m(C_prev, C, oracle, display, tail)\u001b[0m\n\u001b[1;32m     18\u001b[0m \u001b[0;34m\u001b[0m\u001b[0m\n\u001b[1;32m     19\u001b[0m         \u001b[0;31m# Loop through the possible values for byte\u001b[0m\u001b[0;34m\u001b[0m\u001b[0;34m\u001b[0m\u001b[0;34m\u001b[0m\u001b[0m\n\u001b[0;32m---> 20\u001b[0;31m         \u001b[0;32mfor\u001b[0m \u001b[0mbyte\u001b[0m \u001b[0;32min\u001b[0m \u001b[0;34m...\u001b[0m\u001b[0;34m:\u001b[0m \u001b[0;31m### YOUR CODE HERE ###\u001b[0m\u001b[0;34m\u001b[0m\u001b[0;34m\u001b[0m\u001b[0m\n\u001b[0m\u001b[1;32m     21\u001b[0m             \u001b[0mC_prev_prime\u001b[0m \u001b[0;34m=\u001b[0m \u001b[0mbytearray\u001b[0m\u001b[0;34m(\u001b[0m\u001b[0mC_prev\u001b[0m\u001b[0;34m)\u001b[0m\u001b[0;34m\u001b[0m\u001b[0;34m\u001b[0m\u001b[0m\n\u001b[1;32m     22\u001b[0m             \u001b[0;31m# How do we set the already-known plaintext to a value of our choice? ###\u001b[0m\u001b[0;34m\u001b[0m\u001b[0;34m\u001b[0m\u001b[0;34m\u001b[0m\u001b[0m\n",
      "\u001b[0;31mTypeError\u001b[0m: 'ellipsis' object is not iterable"
     ]
    }
   ],
   "source": [
    "def decrypt_block(C_prev, C, oracle, display = False, tail = None):\n",
    "    \"\"\"\n",
    "    Recover plaintext P_n given ciphertext C_n, C_{n-1}, and a padding oracle.\n",
    "    Don't worry about the display or tail arguments -- they're for cool visualization later.\n",
    "\n",
    "    C: current block (the one we're solving for) of the ciphertext (C_i)\n",
    "    C_prev: last block of the cipher text (C_{i-1})\n",
    "    oracle: a function which returns whether (C_prev, C) are padded correctly\n",
    "    \"\"\"\n",
    "    correct_block = bytearray(16) # Reconstructed plaintext (P from previous parts)\n",
    "    temp_block = bytearray(16) # Reconstructed temporary state (T from previous parts)\n",
    "    \n",
    "    # Iterate over the block from end to beginning\n",
    "    for i in reversed(range(16)):\n",
    "        # Set the padding byte that the known bytes should be to guarantee correct padding\n",
    "        # What is the correct plaintext padding for a block which has n < 16 bytes of text?\n",
    "        padding_byte = ... ### YOUR CODE HERE ###\n",
    "        \n",
    "        # Loop through the possible values for byte\n",
    "        for byte in ...: ### YOUR CODE HERE ###\n",
    "            C_prev_prime = bytearray(C_prev)\n",
    "            # How do we set the already-known plaintext to a value of our choice? ###\n",
    "            # Hint: you'll need the temporary state\n",
    "            C_prev_prime[i+1:] = xor_block(..., [padding_byte]*padding_byte) ### YOUR CODE HERE ###\n",
    "            \n",
    "            C_prev_prime[i] = byte\n",
    "            if oracle(C_prev_prime, C):\n",
    "                if i == 15: # Recall from 2.6 that the last byte can have two possible values.\n",
    "                    C_prev_prime[i-1] = ... ### YOUR CODE HERE ###\n",
    "                    if not oracle(C_prev_prime, C):\n",
    "                        continue\n",
    "                        \n",
    "                # We can now deduce the ith byte.\n",
    "                # As you pad farther and farther back, you'll need to slightly tweak how you recover\n",
    "                # the correct byte. Think back to how you derived it for the last byte; the process\n",
    "                # will be very similar\n",
    "                correct_block[i] = ... ### YOUR CODE HERE ###\n",
    "                temp_block[i] = ... ### YOUR CODE HERE ###\n",
    "                \n",
    "                # Visualization code -- don't worry about it\n",
    "                if display:\n",
    "                    progress = correct_block.replace(b'\\x00', b' ')\n",
    "                    clear_output(wait=True)\n",
    "                    if tail is not None:\n",
    "                        progress = progress + tail\n",
    "                    print(f'Recovered so far: {progress}')\n",
    "                    \n",
    "                break\n",
    "    return correct_block\n",
    "\n",
    "# Autograder\n",
    "test7(decrypt_block)"
   ]
  },
  {
   "cell_type": "markdown",
   "metadata": {
    "colab_type": "text",
    "id": "R069S3XtUZKR"
   },
   "source": [
    "# Question 3: Implementing the Attack\n",
    "\n",
    "`Chef Brown's IoT pancake maker happens to host a central web application. This allows Brown to start the machine anywhere and arrive at the canteen to a fresh stack of pancakes. Brown read somewhere that her encryption scheme should not be deterministic, so she opted to use AES-CBC with a random IV and PKCS#7 padding.`\n",
    "\n",
    "`You discover the web application will return a 500 error if it receives an invalid command (such as a message with invalid padding). Using the web application's API, can you decrypt the ciphertext and discover Brown's recipe?`"
   ]
  },
  {
   "cell_type": "markdown",
   "metadata": {
    "colab_type": "text",
    "id": "cta0HFBJUZKR"
   },
   "source": [
    "## Setup\n",
    "\n",
    "We have provided a few things for you:\n",
    "* The pancake maker's web application\n",
    "* A `Client` class to interface with the web application"
   ]
  },
  {
   "cell_type": "markdown",
   "metadata": {
    "colab_type": "text",
    "id": "Brv8yV77UZKT"
   },
   "source": [
    "**If you're running the notebook locally, open a new terminal window and run:**\n",
    "```\n",
    "python iot.py\n",
    "```\n",
    "**If you're running the notebook on DataHub/Google Colab, execute the block below:**"
   ]
  },
  {
   "cell_type": "code",
   "execution_count": 106,
   "metadata": {
    "colab": {},
    "colab_type": "code",
    "id": "0SdcfnDDUZKU"
   },
   "outputs": [
    {
     "name": "stdout",
     "output_type": "stream",
     "text": [
      " * Serving Flask app \"iot\" (lazy loading)\n",
      " * Environment: production\n",
      "\u001b[31m   WARNING: This is a development server. Do not use it in a production deployment.\u001b[0m\n",
      "\u001b[2m   Use a production WSGI server instead.\u001b[0m\n",
      " * Debug mode: off\n"
     ]
    },
    {
     "name": "stderr",
     "output_type": "stream",
     "text": [
      "Exception in thread Thread-9:\n",
      "Traceback (most recent call last):\n",
      "  File \"/Users/tt/opt/anaconda3/lib/python3.8/threading.py\", line 932, in _bootstrap_inner\n",
      "    self.run()\n",
      "  File \"/Users/tt/opt/anaconda3/lib/python3.8/threading.py\", line 870, in run\n",
      "    self._target(*self._args, **self._kwargs)\n",
      "  File \"/Users/tt/opt/anaconda3/lib/python3.8/site-packages/flask/app.py\", line 990, in run\n",
      "    run_simple(host, port, self, **options)\n",
      "  File \"/Users/tt/opt/anaconda3/lib/python3.8/site-packages/werkzeug/serving.py\", line 1052, in run_simple\n",
      "    inner()\n",
      "  File \"/Users/tt/opt/anaconda3/lib/python3.8/site-packages/werkzeug/serving.py\", line 996, in inner\n",
      "    srv = make_server(\n",
      "  File \"/Users/tt/opt/anaconda3/lib/python3.8/site-packages/werkzeug/serving.py\", line 847, in make_server\n",
      "    return ThreadedWSGIServer(\n",
      "  File \"/Users/tt/opt/anaconda3/lib/python3.8/site-packages/werkzeug/serving.py\", line 740, in __init__\n",
      "    HTTPServer.__init__(self, server_address, handler)\n",
      "  File \"/Users/tt/opt/anaconda3/lib/python3.8/socketserver.py\", line 452, in __init__\n",
      "    self.server_bind()\n",
      "  File \"/Users/tt/opt/anaconda3/lib/python3.8/http/server.py\", line 138, in server_bind\n",
      "    socketserver.TCPServer.server_bind(self)\n",
      "  File \"/Users/tt/opt/anaconda3/lib/python3.8/socketserver.py\", line 466, in server_bind\n",
      "    self.socket.bind(self.server_address)\n",
      "OSError: [Errno 48] Address already in use\n"
     ]
    }
   ],
   "source": [
    "from iot import app\n",
    "import threading\n",
    "threading.Thread(target=app.run, kwargs={'host':'0.0.0.0','port':12000}).start() "
   ]
  },
  {
   "cell_type": "markdown",
   "metadata": {
    "colab_type": "text",
    "id": "AX2Mzuh5UZKa"
   },
   "source": [
    "**To define the `Client` class, run the block below:**"
   ]
  },
  {
   "cell_type": "code",
   "execution_count": 107,
   "metadata": {
    "colab": {},
    "colab_type": "code",
    "id": "-GrPI8TKUZKb"
   },
   "outputs": [],
   "source": [
    "# No code you have to write in here :)\n",
    "LOCAL_URL = 'http://127.0.0.1:12000/api/'\n",
    "\n",
    "class Client:\n",
    "    def __init__(self):\n",
    "        # Start a new HTTP Session\n",
    "        self.session = Session()\n",
    "        self.session.mount('http://', HTTPAdapter())\n",
    "\n",
    "        # Get the cached command\n",
    "        url = LOCAL_URL + 'cache'\n",
    "        response = self.session.get(url)\n",
    "        content = response.json()\n",
    "        if response.status_code in [400, 401, 403]:\n",
    "            print('/cache API Error: ' + str(status_code))\n",
    "        elif response.status_code != 200:\n",
    "            print('/cache API Error: ' + str(status_code))\n",
    "\n",
    "        # Decode the ciphertext\n",
    "        self.iv = base64.b64decode(bytes(content['iv'], 'utf8'))\n",
    "        self.ciphertext = base64.b64decode(bytes(content['ciphertext'], 'utf8'))\n",
    "\n",
    "    def execute(self, iv, ciphertext):\n",
    "        '''Sends ciphertext to web application. Return True if command is\n",
    "        executed, False if the application returns an error'''\n",
    "        if type(iv) == type(bytearray()):\n",
    "            iv = bytes(iv)\n",
    "        if type(ciphertext) == type(bytearray()):\n",
    "            ciphertext = bytes(ciphertext)\n",
    "        data = {\n",
    "            'iv': base64.b64encode(iv), \n",
    "            'ciphertext': base64.b64encode(ciphertext)\n",
    "            }\n",
    "        response = self.session.post(LOCAL_URL + 'execute',data=data)\n",
    "        status_code = response.status_code\n",
    "        content = response.json()\n",
    "        return content['success']"
   ]
  },
  {
   "cell_type": "markdown",
   "metadata": {
    "colab_type": "text",
    "id": "x3mTTW69GHj2"
   },
   "source": [
    "Now, we can apply our attack! **First, we need to formulate our oracle in terms of the `client`. To do so, run the code block below.**"
   ]
  },
  {
   "cell_type": "code",
   "execution_count": 108,
   "metadata": {
    "colab": {},
    "colab_type": "code",
    "id": "92xs48RyGHj4"
   },
   "outputs": [],
   "source": [
    "# No code you have to write in here :)\n",
    "def make_network_oracle(client):\n",
    "    def oracle(C_last, C):\n",
    "        return client.execute(C_last, C)\n",
    "    return oracle"
   ]
  },
  {
   "cell_type": "markdown",
   "metadata": {
    "colab_type": "text",
    "id": "Kg8RJiKXUZKi"
   },
   "source": [
    "## 3.1\n",
    "\n",
    "Now we can finally put it all together and execute our attack against a real server. We can directly use your work from previous parts to fill out the `decrypt` function below!"
   ]
  },
  {
   "cell_type": "code",
   "execution_count": 109,
   "metadata": {
    "colab": {},
    "colab_type": "code",
    "id": "jiMiVK5VUZKl"
   },
   "outputs": [],
   "source": [
    "# No code you have to write in here :)\n",
    "def decrypt(client):\n",
    "    # Make the ciphertext mutable by casting to bytearray instead of bytes\n",
    "    iv = bytearray(client.iv)\n",
    "    ciphertext = bytearray(client.ciphertext)\n",
    "    \n",
    "    # Split the ciphertext into blocks\n",
    "    blocks = [iv] + [ciphertext[i:i + 16] for i in range(0, len(ciphertext), 16)]\n",
    "    # This stores our recovered plaintext\n",
    "    plaintext = [bytearray(16) for _ in range(len(blocks))]\n",
    "    oracle = make_network_oracle(client)\n",
    "\n",
    "    # Recover each block and byte in reverse order\n",
    "    for i in reversed(range(1, len(blocks))):\n",
    "        C_last = blocks[i - 1]\n",
    "        C = blocks[i]\n",
    "        plaintext[i] = decrypt_block(C_last, C, oracle, True, b''.join(plaintext[i+1:]))\n",
    "    \n",
    "    return b''.join(plaintext[1:]).decode()"
   ]
  },
  {
   "cell_type": "markdown",
   "metadata": {
    "colab_type": "text",
    "id": "ABnWgOWGUZKs"
   },
   "source": [
    "Run your attack:"
   ]
  },
  {
   "cell_type": "code",
   "execution_count": 110,
   "metadata": {
    "colab": {},
    "colab_type": "code",
    "id": "oXcIfB53UZKt"
   },
   "outputs": [
    {
     "ename": "TypeError",
     "evalue": "'ellipsis' object is not iterable",
     "output_type": "error",
     "traceback": [
      "\u001b[0;31m---------------------------------------------------------------------------\u001b[0m",
      "\u001b[0;31mTypeError\u001b[0m                                 Traceback (most recent call last)",
      "\u001b[0;32m<ipython-input-110-1e4332a2db90>\u001b[0m in \u001b[0;36m<module>\u001b[0;34m\u001b[0m\n\u001b[0;32m----> 1\u001b[0;31m \u001b[0mprint\u001b[0m\u001b[0;34m(\u001b[0m\u001b[0;34mf\"\\n\\nOrigin of chef Brown's recipe:\\n\\n {decrypt(Client())}\"\u001b[0m\u001b[0;34m)\u001b[0m\u001b[0;34m\u001b[0m\u001b[0;34m\u001b[0m\u001b[0m\n\u001b[0m",
      "\u001b[0;32m<ipython-input-109-7b45d2e9dd92>\u001b[0m in \u001b[0;36mdecrypt\u001b[0;34m(client)\u001b[0m\n\u001b[1;32m     15\u001b[0m         \u001b[0mC_last\u001b[0m \u001b[0;34m=\u001b[0m \u001b[0mblocks\u001b[0m\u001b[0;34m[\u001b[0m\u001b[0mi\u001b[0m \u001b[0;34m-\u001b[0m \u001b[0;36m1\u001b[0m\u001b[0;34m]\u001b[0m\u001b[0;34m\u001b[0m\u001b[0;34m\u001b[0m\u001b[0m\n\u001b[1;32m     16\u001b[0m         \u001b[0mC\u001b[0m \u001b[0;34m=\u001b[0m \u001b[0mblocks\u001b[0m\u001b[0;34m[\u001b[0m\u001b[0mi\u001b[0m\u001b[0;34m]\u001b[0m\u001b[0;34m\u001b[0m\u001b[0;34m\u001b[0m\u001b[0m\n\u001b[0;32m---> 17\u001b[0;31m         \u001b[0mplaintext\u001b[0m\u001b[0;34m[\u001b[0m\u001b[0mi\u001b[0m\u001b[0;34m]\u001b[0m \u001b[0;34m=\u001b[0m \u001b[0mdecrypt_block\u001b[0m\u001b[0;34m(\u001b[0m\u001b[0mC_last\u001b[0m\u001b[0;34m,\u001b[0m \u001b[0mC\u001b[0m\u001b[0;34m,\u001b[0m \u001b[0moracle\u001b[0m\u001b[0;34m,\u001b[0m \u001b[0;32mTrue\u001b[0m\u001b[0;34m,\u001b[0m \u001b[0;34mb''\u001b[0m\u001b[0;34m.\u001b[0m\u001b[0mjoin\u001b[0m\u001b[0;34m(\u001b[0m\u001b[0mplaintext\u001b[0m\u001b[0;34m[\u001b[0m\u001b[0mi\u001b[0m\u001b[0;34m+\u001b[0m\u001b[0;36m1\u001b[0m\u001b[0;34m:\u001b[0m\u001b[0;34m]\u001b[0m\u001b[0;34m)\u001b[0m\u001b[0;34m)\u001b[0m\u001b[0;34m\u001b[0m\u001b[0;34m\u001b[0m\u001b[0m\n\u001b[0m\u001b[1;32m     18\u001b[0m \u001b[0;34m\u001b[0m\u001b[0m\n\u001b[1;32m     19\u001b[0m     \u001b[0;32mreturn\u001b[0m \u001b[0;34mb''\u001b[0m\u001b[0;34m.\u001b[0m\u001b[0mjoin\u001b[0m\u001b[0;34m(\u001b[0m\u001b[0mplaintext\u001b[0m\u001b[0;34m[\u001b[0m\u001b[0;36m1\u001b[0m\u001b[0;34m:\u001b[0m\u001b[0;34m]\u001b[0m\u001b[0;34m)\u001b[0m\u001b[0;34m.\u001b[0m\u001b[0mdecode\u001b[0m\u001b[0;34m(\u001b[0m\u001b[0;34m)\u001b[0m\u001b[0;34m\u001b[0m\u001b[0;34m\u001b[0m\u001b[0m\n",
      "\u001b[0;32m<ipython-input-105-bacb98ed68f5>\u001b[0m in \u001b[0;36mdecrypt_block\u001b[0;34m(C_prev, C, oracle, display, tail)\u001b[0m\n\u001b[1;32m     18\u001b[0m \u001b[0;34m\u001b[0m\u001b[0m\n\u001b[1;32m     19\u001b[0m         \u001b[0;31m# Loop through the possible values for byte\u001b[0m\u001b[0;34m\u001b[0m\u001b[0;34m\u001b[0m\u001b[0;34m\u001b[0m\u001b[0m\n\u001b[0;32m---> 20\u001b[0;31m         \u001b[0;32mfor\u001b[0m \u001b[0mbyte\u001b[0m \u001b[0;32min\u001b[0m \u001b[0;34m...\u001b[0m\u001b[0;34m:\u001b[0m \u001b[0;31m### YOUR CODE HERE ###\u001b[0m\u001b[0;34m\u001b[0m\u001b[0;34m\u001b[0m\u001b[0m\n\u001b[0m\u001b[1;32m     21\u001b[0m             \u001b[0mC_prev_prime\u001b[0m \u001b[0;34m=\u001b[0m \u001b[0mbytearray\u001b[0m\u001b[0;34m(\u001b[0m\u001b[0mC_prev\u001b[0m\u001b[0;34m)\u001b[0m\u001b[0;34m\u001b[0m\u001b[0;34m\u001b[0m\u001b[0m\n\u001b[1;32m     22\u001b[0m             \u001b[0;31m# How do we set the already-known plaintext to a value of our choice? ###\u001b[0m\u001b[0;34m\u001b[0m\u001b[0;34m\u001b[0m\u001b[0;34m\u001b[0m\u001b[0m\n",
      "\u001b[0;31mTypeError\u001b[0m: 'ellipsis' object is not iterable"
     ]
    }
   ],
   "source": [
    "print(f\"\\n\\nOrigin of chef Brown's recipe:\\n\\n {decrypt(Client())}\")"
   ]
  },
  {
   "cell_type": "markdown",
   "metadata": {
    "colab_type": "text",
    "id": "w-Ufy-lCOegB"
   },
   "source": [
    "What is the secret ingredient in Chef Brown's recipe?"
   ]
  },
  {
   "cell_type": "markdown",
   "metadata": {
    "colab_type": "text",
    "id": "3PLSKV8XUZKx"
   },
   "source": [
    "**<span style = \"color: red\">(YOUR ANSWER HERE)</span>**"
   ]
  },
  {
   "cell_type": "markdown",
   "metadata": {
    "colab_type": "text",
    "id": "GVRqE5ahUZKz"
   },
   "source": [
    "# Question 4: History and Defenses\n",
    "\n",
    "The padding oracle that you've developed in this lab has been used in plenty of real-world attacks. The attack was first discovered (publicly) in 2002. Since 2002 is well within the era of the internet, you can find the paper published by the exploit's original authors [here](https://www.iacr.org/cryptodb/archive/2002/EUROCRYPT/2850/2850.pdf). Exploits were quickly engineered against all sorts of servers to great success.\n",
    "\n",
    "Fixes for this original attack \"fixed\" the vulnerability by simply stopping the server from directly telling users whether a message was padded correctly or not. But later attacks, in particular [lucky thirteen](https://arstechnica.com/information-technology/2013/02/lucky-thirteen-attack-snarfs-cookies-protected-by-ssl-encryption/), utilized the fact that a *timing* side-channel could let an attacker statistically infer when a padding was set correctly even without the server telling them explicitly. This illustrates how hard it is to avoid side-channel attacks and why we always prefer to use schemes which fail as safely as possible.\n",
    "\n",
    "For the most part, CBC padding oracle attacks have been patched, but there are notable circumstances in which they can still be used to great success. [Some attacks](https://en.wikipedia.org/wiki/POODLE) use the fact that users can request to use older versions of protocols for backwards compatibilty, which can directly enable old attacks to come back to life. And since implementing cryptography is *hard*, patches and fixes can result in the resurrection of previously-patched vulnerabilities. Check out [this](https://cve.mitre.org/cgi-bin/cvename.cgi?name=CVE-2016-2107) CVE, an ironic example of how a patch for lucky thirteen actually *enabled* a padding oracle attack.\n",
    "\n",
    "Now, let's explore a possible defense. Sending just a message encrypted with CBC mode guarantees us confidentiality if we use a secure block cipher, which we generally assume AES is. The lack of authentication and integrity checking mean that we as attackers are allowed to freely tamper with messages in order to decrypt them. It stands to reason that added some authentication and integrity checks would prevent us from successfully modifying messages for the server's examination. For simplicity, let's consider just two possible methods of achieving this: MAC-then-encrypt and encrypt-then-MAC, both with a secure MAC algorithm."
   ]
  },
  {
   "cell_type": "markdown",
   "metadata": {
    "colab_type": "text",
    "id": "UEyHdDAGOovy"
   },
   "source": [
    "## 4.1\n",
    "\n",
    "Does MAC-then-encrypt prevent users from exploiting our padding oracle attack? If yes, explain why. If not, explain how to modify the attack so that it still works."
   ]
  },
  {
   "cell_type": "markdown",
   "metadata": {
    "colab_type": "text",
    "id": "iOq-AEmQUZK0"
   },
   "source": [
    "**<span style = \"color: red\">Yes, since after MAC, we know if eve modifiy our message.</span>**"
   ]
  },
  {
   "cell_type": "markdown",
   "metadata": {
    "colab_type": "text",
    "id": "jR4laxAWUZK1"
   },
   "source": [
    "## 4.2\n",
    "\n",
    "Does encrypt-then-MAC prevent users from exploiting our padding oracle attack? If yes, explain why. If not, explain how to modify the attack so that it still works."
   ]
  },
  {
   "cell_type": "markdown",
   "metadata": {
    "colab_type": "text",
    "id": "aYy7Rl2BUZK2"
   },
   "source": [
    "**<span style = \"color: red\">Yes, since after MAC, we know if eve modifiy our message.</span>**"
   ]
  },
  {
   "cell_type": "markdown",
   "metadata": {},
   "source": [
    "# Question 5: SHA Length-Extension\n",
    "\n",
    "In lecture, Nick let slip that SHA-2, great as (we currently think) it is, is vulnerable to an attack called a *length-extension attack*. In this question, we'll walk you through how the SHA-2 algorithm actually works and show you how an attacker could use that knowledge to forge SHA-2 hashes based on (message, hash) pairs that they observe. As with the CBC padding oracle part of this lab, we highly recommend that you complete HW2 before attempting this question in order to gain some intuition.\n",
    "\n",
    "Note that you don't actually have to write any code for this question, so it's double optional. But please do read, run, and play with the examples :).\n",
    "\n",
    "Recall the general outline of the SHA-2 algorithm from HW2:\n",
    "\n",
    "<img src=\"https://raw.githubusercontent.com/cs161-staff/labs/master/padding_oracle/sha-outline.png\" style=\"height:300px\" />\n",
    "\n",
    "## The Nitty-Gritty\n",
    "\n",
    "Since we're going to actually write a length extension attack, we have to interact with the real algorithm specified in actual code. Below, you can (and should) read the SHA-256 code generously provided under the MIT License [here](https://perso.crans.org/besson/publis/notebooks/Benchmark_of_the_SHA256_hash_function__Python_Cython_Numba.html). The code is pretty well commented, but it's okay if you don't understand every small detail."
   ]
  },
  {
   "cell_type": "code",
   "execution_count": 111,
   "metadata": {},
   "outputs": [],
   "source": [
    "def leftrotate(x, c):\n",
    "    \"\"\" Left rotate the number x by c bytes.\"\"\"\n",
    "    x &= 0xFFFFFFFF\n",
    "    return ((x << c) | (x >> (32 - c))) & 0xFFFFFFFF\n",
    "\n",
    "def rightrotate(x, c):\n",
    "    \"\"\" Right rotate the number x by c bytes.\"\"\"\n",
    "    x &= 0xFFFFFFFF\n",
    "    return ((x >> c) | (x << (32 - c))) & 0xFFFFFFFF\n",
    "\n",
    "def leftshift(x, c):\n",
    "    \"\"\" Left shift the number x by c bytes.\"\"\"\n",
    "    return x << c\n",
    "\n",
    "def rightshift(x, c):\n",
    "    \"\"\" Right shift the number x by c bytes.\"\"\"\n",
    "    return x >> c\n",
    "\n",
    "class SHA2():\n",
    "    \"\"\"SHA256 hashing, see https://en.wikipedia.org/wiki/SHA-2#Pseudocode.\"\"\"\n",
    "    \n",
    "    def __init__(self):\n",
    "        self.name        = \"SHA256\"\n",
    "        self.byteorder   = 'big'\n",
    "        self.block_size  = 64\n",
    "        self.digest_size = 32\n",
    "        # Note 2: For each round, there is one round constant k[i] and one entry in the message schedule array w[i], 0 ≤ i ≤ 63\n",
    "        # Note 3: The compression function uses 8 working variables, a through h\n",
    "        # Note 4: Big-endian convention is used when expressing the constants in this pseudocode,\n",
    "        #         and when parsing message block data from bytes to words, for example,\n",
    "        #         the first word of the input message \"abc\" after padding is 0x61626380\n",
    "\n",
    "        # Initialize hash values:\n",
    "        # (first 32 bits of the fractional parts of the square roots of the first 8 primes 2..19):\n",
    "        # you don't need to worry about these\n",
    "        h0 = 0x6a09e667\n",
    "        h1 = 0xbb67ae85\n",
    "        h2 = 0x3c6ef372\n",
    "        h3 = 0xa54ff53a\n",
    "        h4 = 0x510e527f\n",
    "        h5 = 0x9b05688c\n",
    "        h6 = 0x1f83d9ab\n",
    "        h7 = 0x5be0cd19\n",
    "        \n",
    "        # Initialize array of round constants:\n",
    "        # (first 32 bits of the fractional parts of the cube roots of the first 64 primes 2..311):\n",
    "        # You don't need to worry about these\n",
    "        self.k = [\n",
    "            0x428a2f98, 0x71374491, 0xb5c0fbcf, 0xe9b5dba5, 0x3956c25b, 0x59f111f1, 0x923f82a4, 0xab1c5ed5,\n",
    "            0xd807aa98, 0x12835b01, 0x243185be, 0x550c7dc3, 0x72be5d74, 0x80deb1fe, 0x9bdc06a7, 0xc19bf174,\n",
    "            0xe49b69c1, 0xefbe4786, 0x0fc19dc6, 0x240ca1cc, 0x2de92c6f, 0x4a7484aa, 0x5cb0a9dc, 0x76f988da,\n",
    "            0x983e5152, 0xa831c66d, 0xb00327c8, 0xbf597fc7, 0xc6e00bf3, 0xd5a79147, 0x06ca6351, 0x14292967,\n",
    "            0x27b70a85, 0x2e1b2138, 0x4d2c6dfc, 0x53380d13, 0x650a7354, 0x766a0abb, 0x81c2c92e, 0x92722c85,\n",
    "            0xa2bfe8a1, 0xa81a664b, 0xc24b8b70, 0xc76c51a3, 0xd192e819, 0xd6990624, 0xf40e3585, 0x106aa070,\n",
    "            0x19a4c116, 0x1e376c08, 0x2748774c, 0x34b0bcb5, 0x391c0cb3, 0x4ed8aa4a, 0x5b9cca4f, 0x682e6ff3,\n",
    "            0x748f82ee, 0x78a5636f, 0x84c87814, 0x8cc70208, 0x90befffa, 0xa4506ceb, 0xbef9a3f7, 0xc67178f2\n",
    "        ]\n",
    "\n",
    "        # Store them\n",
    "        # this is the internal state that we update at the end of every 512-bit chunk of input\n",
    "        self.hash_pieces = [h0, h1, h2, h3, h4, h5, h6, h7]\n",
    "    \n",
    "    #this function is what actually does a \"hash\"\n",
    "    #if we use it multiple times, EACH input will be padded and treated as\n",
    "    #the message to hash with the internal state hash_pieces\n",
    "    def update(self, arg, fakelength=None, visualize=False):\n",
    "        h0, h1, h2, h3, h4, h5, h6, h7 = self.hash_pieces\n",
    "        # 1. Pre-processing, exactly like MD5\n",
    "        data = bytearray(arg)\n",
    "        orig_len_in_bits = (8 * len(data)) & 0xFFFFFFFFFFFFFFFF\n",
    "        # 1.a. Add a single '1' bit at the end of the input bits\n",
    "        data.append(0x80) #0x80 = 0b10000000, and we assume inputs are always given in bytes\n",
    "        # 1.b. Padding with zeros as long as the input bits length ≡ 448 (mod 512)\n",
    "        # why 448? because we append length as a 64 bit integer next\n",
    "        while len(data) % 64 != 56:\n",
    "            data.append(0)\n",
    "        # 1.c. append original length in bits mod (2 pow 64) to message\n",
    "        # modification to allow us to override the message length for when we spoof hashes\n",
    "        l = None\n",
    "        if fakelength:\n",
    "            l = (fakelength * 8).to_bytes(8, byteorder='big')\n",
    "        else:\n",
    "            l = orig_len_in_bits.to_bytes(8, byteorder='big') #unsigned by default, which we want\n",
    "        data += l \n",
    "        assert len(data) % 64 == 0, \"Error in padding\"\n",
    "        \n",
    "        # 2. Computations\n",
    "        # Process the message in successive 512-bit = 64-bytes chunks:\n",
    "        for r, offset in enumerate(range(0, len(data), 64)):\n",
    "            # 2.a. 512-bits = 64-bytes chunks\n",
    "            chunks = data[offset : offset + 64]\n",
    "            w = [0 for i in range(64)]\n",
    "            # 2.b. Break chunk into sixteen 32-bit = 4-bytes words w[i], 0 ≤ i ≤ 15\n",
    "            for i in range(16):\n",
    "                w[i] = int.from_bytes(chunks[4*i : 4*i + 4], byteorder='big')\n",
    "            # 2.c.  Extend the first 16 words into the remaining 48\n",
    "            #       words w[16..63] of the message schedule array:\n",
    "            for i in range(16, 64):\n",
    "                s0 = (rightrotate(w[i-15], 7) ^ rightrotate(w[i-15], 18) ^ rightshift(w[i-15], 3)) & 0xFFFFFFFF\n",
    "                s1 = (rightrotate(w[i-2], 17) ^ rightrotate(w[i-2], 19) ^ rightshift(w[i-2], 10)) & 0xFFFFFFFF\n",
    "                w[i] = (w[i-16] + s0 + w[i-7] + s1) & 0xFFFFFFFF\n",
    "            # 2.d. Initialize hash value for this chunk\n",
    "            a, b, c, d, e, f, g, h = h0, h1, h2, h3, h4, h5, h6, h7\n",
    "            # 2.e. Main loop, cf. https://tools.ietf.org/html/rfc6234\n",
    "            # this is the \"compression function\" you saw in HW2\n",
    "            for i in range(64):\n",
    "                S1 = (rightrotate(e, 6) ^ rightrotate(e, 11) ^ rightrotate(e, 25)) & 0xFFFFFFFF\n",
    "                ch = ((e & f) ^ ((~e) & g)) & 0xFFFFFFFF\n",
    "                temp1 = (h + S1 + ch + self.k[i] + w[i]) & 0xFFFFFFFF\n",
    "                S0 = (rightrotate(a, 2) ^ rightrotate(a, 13) ^ rightrotate(a, 22)) & 0xFFFFFFFF\n",
    "                maj = ((a & b) ^ (a & c) ^ (b & c)) & 0xFFFFFFFF\n",
    "                temp2 = (S0 + maj) & 0xFFFFFFFF\n",
    "\n",
    "                new_a = (temp1 + temp2) & 0xFFFFFFFF\n",
    "                new_e = (d + temp1) & 0xFFFFFFFF\n",
    "                # Rotate the 8 variables\n",
    "                a, b, c, d, e, f, g, h = new_a, a, b, c, new_e, e, f, g\n",
    "\n",
    "            # Add this chunk's hash to result so far:\n",
    "            # the & 0xFFFFFFFF is to ensure we're keeping each part of the hash\n",
    "            # within 32 bits (enforces addition mod 2^32)\n",
    "            h0 = (h0 + a) & 0xFFFFFFFF\n",
    "            h1 = (h1 + b) & 0xFFFFFFFF\n",
    "            h2 = (h2 + c) & 0xFFFFFFFF\n",
    "            h3 = (h3 + d) & 0xFFFFFFFF\n",
    "            h4 = (h4 + e) & 0xFFFFFFFF\n",
    "            h5 = (h5 + f) & 0xFFFFFFFF\n",
    "            h6 = (h6 + g) & 0xFFFFFFFF\n",
    "            h7 = (h7 + h) & 0xFFFFFFFF\n",
    "            \n",
    "            if visualize:\n",
    "                rep = sum(leftshift(x, 32 * i) for i, x in enumerate([h0, h1, h2, h3, h4, h5, h6, h7]))\n",
    "                hexrep = rep.to_bytes(self.digest_size, byteorder=self.byteorder)\n",
    "                print(f\"SHA's internal state after processing {r} blocks is {hexrep}\")\n",
    "        # 3. Conclusion\n",
    "        self.hash_pieces = [h0, h1, h2, h3, h4, h5, h6, h7]\n",
    "\n",
    "    def digest(self):\n",
    "        # h0 append h1 append h2 append h3 append h4 append h5 append h6 append h7\n",
    "        # since Python 3 allows for arbitrarily large integers, this is actually just a way of\n",
    "        # doing h0 || h1 || h2 || h3 || h4 || h5 || h6 || h7\n",
    "        return sum(leftshift(x, 32 * i) for i, x in enumerate(self.hash_pieces[::-1]))\n",
    "\n",
    "    def hexdigest(self):\n",
    "        \"\"\" Like digest() except the digest is returned as a string object of double length, containing only hexadecimal digits. This may be used to exchange the value safely in email or other non-binary environments.\"\"\"\n",
    "        digest = self.digest()\n",
    "        raw = digest.to_bytes(self.digest_size, byteorder=self.byteorder)\n",
    "        format_str = '{:0' + str(2 * self.digest_size) + 'x}'\n",
    "        return format_str.format(int.from_bytes(raw, byteorder='big'))\n",
    "\n",
    "def hash(data):\n",
    "    \"\"\" Shortcut function to directly receive the hex digest from SHA2(data).\"\"\"\n",
    "    h = SHA2()\n",
    "    if isinstance(data, str):\n",
    "        data = bytes(data, encoding='utf8')\n",
    "    h.update(data)\n",
    "    return h.hexdigest()"
   ]
  },
  {
   "cell_type": "markdown",
   "metadata": {},
   "source": [
    "## Implementing the Attack\n",
    "\n",
    "The notorious hacker Vladimir Computin has hacked into Commerica's *Department of Voting Machine Software* in order to corrupt Commerica's upcoming election by modifying the *Department*'s star product, VoteOS. In particular, Computin has discovered a buffer overflow vulnerability in VoteOS that circumvents stack canaries and ASLR, but he wants to also defeat NX bit protection. He intends to do this by distributing a version of VoteOS which contains his shellcode in the binary itself. The only problem is that VoteOS is distributed along with the signature $\\mathrm{SHA}(k||B)$ where $k$ is a secret key that all government officials memorize and $B$ is the VoteOS binary. Computin controls an empire of USB flash drive distributors, but he is somehow unable to discover $k$. Stymied, Computin calls you, his trusty CS 161 friend and former KGB colleague, to help circumvent this problem.\n",
    "\n",
    "You know the gist of SHA-2 length extension attacks, so you tell Computin that it'll be no problem. Since you know the hash of the original binary and are only adding code to the end of the file, you code up a way to spoof the new binary's SHA-256 hash.\n",
    "\n",
    "First, you realize that since SHA-256 pads its inputs before performing any computations, you can't actually directly extend $\\mathrm{SHA}(k||B)$ to $\\mathrm{SHA}(k||B||M)$ (where $M$ is Computin's malcode). Consulting your reference implementation of SHA-256, you realize that you'll only be able to construct the hash $\\mathrm{SHA}(k||B||p||M)$ where $p$ is the padding generated by the SHA-256 algorithm. This, however, is no problem &mdash; Computin's attacks will work just as well on the binary $B||p||M$ as they would on $B||M$ (why? Remeber that the message itself is a binary, and think about the structure of assembly programs).\n",
    "\n",
    "You write the following code to compute $p$ from $|k||B|$:"
   ]
  },
  {
   "cell_type": "code",
   "execution_count": 114,
   "metadata": {},
   "outputs": [],
   "source": [
    "def gen_pad(arg):\n",
    "    data = bytearray(arg)\n",
    "    orig_len_in_bits = (8 * len(data)) & 0xFFFFFFFFFFFFFFFF\n",
    "    # 1.a. Add a single '1' bit at the end of the input bits\n",
    "    data.append(0x80) #0x80 = 0b10000000, and we assume inputs are always given in bytes\n",
    "    # 1.b. Padding with zeros as long as the input bits length ≡ 448 (mod 512)\n",
    "    # why 448? because we append length as a 64 bit integer next\n",
    "    while len(data) % 64 != 56:\n",
    "        data.append(0)\n",
    "    # 1.c. append original length in bits mod (2 pow 64) to message\n",
    "    data += orig_len_in_bits.to_bytes(8, byteorder='big') #unsigned by default, which we want\n",
    "    assert len(data) % 64 == 0\n",
    "    assert orig_len_in_bits % 8 == 0\n",
    "    return data[orig_len_in_bits // 8:]"
   ]
  },
  {
   "cell_type": "markdown",
   "metadata": {},
   "source": [
    "With your dirty work done, you implement your attack. Feel free to play with the key, message, and modification to the message, and try setting `visualize=True` to see the SHA algorithm updating as it processes its input."
   ]
  },
  {
   "cell_type": "code",
   "execution_count": 115,
   "metadata": {},
   "outputs": [
    {
     "name": "stdout",
     "output_type": "stream",
     "text": [
      "SHA's internal state after processing 0 blocks is b'\\xcd\\xcd\\x86\\xbf\\xd5\\xf2\\xff\\xec7e\\xf8\\x88n\\xdd\\xd8\\xe9=\\x12V\\x93\\xfd\\x0cOS\\x14\\x0b\\xac ;\\xc8\\xe7\\x0e'\n",
      "SHA's internal state after processing 1 blocks is b'\\xabY\\x86\\xeb\\xdaj#\\x12\\xa2\\xf0.w\\xc0\\xce\\xb8(\\x0f\\xddR\\x94s|\\x9f\\x932{$vY\\xdf\\x87\\xed'\n",
      "SHA's internal state after processing 2 blocks is b'\\xca;:\\x8e\\x04\\x00\\xaa\\xf7\\x0b\\x92\\x82\\xe3P\\xfc`\\x07\\xf5qz\\xbf\\xe2\\x18|\\xa6\\x98\\xef\\xca\\x0e<\\xb8J_'\n",
      "The original binary B has signature SHA(k||B) = 3cb84a5f98efca0ee2187ca6f5717abf50fc60070b9282e30400aaf7ca3b3a8e\n",
      "Our modified hash for k||B||p||M is f8e67240f834cd6fb98254ed795549e7da54418df680aa062e4eb6b6bd80fad6\n",
      "If we had expliticly found the hash of k||B||p||M, we'd have gotten f8e67240f834cd6fb98254ed795549e7da54418df680aa062e4eb6b6bd80fad6\n"
     ]
    }
   ],
   "source": [
    "import random\n",
    "random.seed(161)\n",
    "msg_size = 102\n",
    "mod_size = 16\n",
    "k = b'stacks of pancakes'\n",
    "B = random.getrandbits(msg_size * 8).to_bytes(msg_size, byteorder='big')\n",
    "p = gen_pad(k + B)\n",
    "M = random.getrandbits(mod_size * 8).to_bytes(mod_size, byteorder='big')\n",
    "hasher = SHA2()\n",
    "hasher.update(k + B, visualize=True)\n",
    "print(f\"The original binary B has signature SHA(k||B) = {hasher.hexdigest()}\")\n",
    "hasher.update(M, fakelength=len(k + B + p + M)) #set our fake length\n",
    "print(f\"Our modified hash for k||B||p||M is {hasher.hexdigest()}\")\n",
    "print(f\"If we had expliticly found the hash of k||B||p||M, we'd have gotten {hash(k + B + p + M)}\")"
   ]
  },
  {
   "cell_type": "markdown",
   "metadata": {
    "colab_type": "text",
    "id": "VSbB2qqufr5M"
   },
   "source": [
    "# Question 6: Lab Feedback\n",
    "\n",
    "This is the third time 161 has offered this lab, and we would greatly appreciate your feedback!\n",
    "\n",
    "<a href=\"https://forms.gle/BaY7tSbCF5TdGE9cA\">Feedback form</a>"
   ]
  },
  {
   "cell_type": "code",
   "execution_count": null,
   "metadata": {},
   "outputs": [],
   "source": []
  },
  {
   "cell_type": "code",
   "execution_count": null,
   "metadata": {},
   "outputs": [],
   "source": []
  }
 ],
 "metadata": {
  "anaconda-cloud": {},
  "colab": {
   "name": "padding_oracle_attack.ipynb",
   "provenance": []
  },
  "kernelspec": {
   "display_name": "Python 3",
   "language": "python",
   "name": "python3"
  },
  "language_info": {
   "codemirror_mode": {
    "name": "ipython",
    "version": 3
   },
   "file_extension": ".py",
   "mimetype": "text/x-python",
   "name": "python",
   "nbconvert_exporter": "python",
   "pygments_lexer": "ipython3",
   "version": "3.8.3"
  }
 },
 "nbformat": 4,
 "nbformat_minor": 1
}
